{
 "cells": [
  {
   "cell_type": "code",
   "execution_count": 3,
   "id": "7fb61de1",
   "metadata": {},
   "outputs": [],
   "source": [
    "import cv2\n",
    "import time\n",
    "from ultralytics import solutions"
   ]
  },
  {
   "cell_type": "code",
   "execution_count": null,
   "id": "689b4508",
   "metadata": {},
   "outputs": [
    {
     "name": "stdout",
     "output_type": "stream",
     "text": [
      "Ultralytics Solutions: ✅ {'source': None, 'model': 'yolo11m.pt', 'classes': [0], 'show_conf': True, 'show_labels': True, 'region': None, 'colormap': 21, 'show_in': True, 'show_out': True, 'up_angle': 145.0, 'down_angle': 90, 'kpts': [6, 8, 10], 'analytics_type': 'line', 'figsize': (12.8, 7.2), 'blur_ratio': 0.5, 'vision_point': (20, 20), 'crop_dir': 'cropped-detections', 'json_file': None, 'line_width': 2, 'records': 5, 'fps': 30.0, 'max_hist': 5, 'meter_per_pixel': 0.05, 'max_speed': 120, 'show': True, 'iou': 0.7, 'conf': 0.25, 'device': None, 'max_det': 300, 'half': False, 'tracker': 'botsort.yaml', 'verbose': True}\n",
      "Downloading https://github.com/ultralytics/assets/releases/download/v8.3.0/yolo11m.pt to 'yolo11m.pt'...\n"
     ]
    },
    {
     "name": "stderr",
     "output_type": "stream",
     "text": [
      "[ WARN:0@79.040] global cap_gstreamer.cpp:1173 isPipelinePlaying OpenCV | GStreamer warning: GStreamer: pipeline have not been created\n",
      "100%|██████████| 38.8M/38.8M [00:06<00:00, 5.93MB/s]\n"
     ]
    },
    {
     "name": "stdout",
     "output_type": "stream",
     "text": [
      "\n",
      "0: 480x640 1 person, 856.8ms\n",
      "Speed: 2.5ms preprocess, 856.8ms inference, 1.0ms postprocess per image at shape (1, 3, 480, 640)\n",
      "🚀 Results: SolutionResults(classwise_count={'person': {'IN': 0, 'OUT': 0}}, total_tracks=1)\n",
      "\n",
      "0: 480x640 1 person, 614.3ms\n",
      "Speed: 1.9ms preprocess, 614.3ms inference, 0.8ms postprocess per image at shape (1, 3, 480, 640)\n",
      "🚀 Results: SolutionResults(classwise_count={'person': {'IN': 0, 'OUT': 0}}, total_tracks=1)\n",
      "\n",
      "0: 480x640 1 person, 701.2ms\n",
      "Speed: 2.6ms preprocess, 701.2ms inference, 0.8ms postprocess per image at shape (1, 3, 480, 640)\n",
      "🚀 Results: SolutionResults(classwise_count={'person': {'IN': 0, 'OUT': 0}}, total_tracks=1)\n",
      "\n",
      "0: 480x640 1 person, 726.3ms\n",
      "Speed: 2.1ms preprocess, 726.3ms inference, 0.8ms postprocess per image at shape (1, 3, 480, 640)\n",
      "🚀 Results: SolutionResults(classwise_count={'person': {'IN': 0, 'OUT': 0}}, total_tracks=1)\n",
      "\n",
      "0: 480x640 1 person, 517.0ms\n",
      "Speed: 2.1ms preprocess, 517.0ms inference, 0.8ms postprocess per image at shape (1, 3, 480, 640)\n",
      "🚀 Results: SolutionResults(classwise_count={'person': {'IN': 0, 'OUT': 0}}, total_tracks=1)\n",
      "\n",
      "0: 480x640 1 person, 680.1ms\n",
      "Speed: 2.2ms preprocess, 680.1ms inference, 0.7ms postprocess per image at shape (1, 3, 480, 640)\n",
      "🚀 Results: SolutionResults(classwise_count={'person': {'IN': 0, 'OUT': 0}}, total_tracks=1)\n",
      "\n",
      "0: 480x640 1 person, 669.8ms\n",
      "Speed: 2.1ms preprocess, 669.8ms inference, 0.8ms postprocess per image at shape (1, 3, 480, 640)\n",
      "🚀 Results: SolutionResults(classwise_count={'person': {'IN': 0, 'OUT': 0}}, total_tracks=1)\n",
      "\n",
      "0: 480x640 1 person, 650.0ms\n",
      "Speed: 2.2ms preprocess, 650.0ms inference, 0.8ms postprocess per image at shape (1, 3, 480, 640)\n",
      "🚀 Results: SolutionResults(classwise_count={'person': {'IN': 0, 'OUT': 0}}, total_tracks=1)\n",
      "\n",
      "0: 480x640 1 person, 540.9ms\n",
      "Speed: 1.8ms preprocess, 540.9ms inference, 0.7ms postprocess per image at shape (1, 3, 480, 640)\n",
      "🚀 Results: SolutionResults(classwise_count={'person': {'IN': 0, 'OUT': 0}}, total_tracks=1)\n",
      "\n",
      "0: 480x640 1 person, 699.3ms\n",
      "Speed: 4.0ms preprocess, 699.3ms inference, 0.8ms postprocess per image at shape (1, 3, 480, 640)\n",
      "🚀 Results: SolutionResults(classwise_count={'person': {'IN': 0, 'OUT': 0}}, total_tracks=1)\n",
      "\n",
      "0: 480x640 1 person, 672.5ms\n",
      "Speed: 2.7ms preprocess, 672.5ms inference, 0.8ms postprocess per image at shape (1, 3, 480, 640)\n",
      "🚀 Results: SolutionResults(classwise_count={'person': {'IN': 0, 'OUT': 0}}, total_tracks=1)\n",
      "\n",
      "0: 480x640 1 person, 714.9ms\n",
      "Speed: 2.3ms preprocess, 714.9ms inference, 0.9ms postprocess per image at shape (1, 3, 480, 640)\n",
      "🚀 Results: SolutionResults(classwise_count={'person': {'IN': 0, 'OUT': 0}}, total_tracks=1)\n",
      "\n",
      "0: 480x640 1 person, 731.7ms\n",
      "Speed: 2.6ms preprocess, 731.7ms inference, 0.8ms postprocess per image at shape (1, 3, 480, 640)\n",
      "🚀 Results: SolutionResults(classwise_count={'person': {'IN': 0, 'OUT': 0}}, total_tracks=1)\n",
      "\n",
      "0: 480x640 1 person, 477.4ms\n",
      "Speed: 2.2ms preprocess, 477.4ms inference, 0.8ms postprocess per image at shape (1, 3, 480, 640)\n",
      "🚀 Results: SolutionResults(classwise_count={'person': {'IN': 0, 'OUT': 0}}, total_tracks=1)\n",
      "\n",
      "0: 480x640 1 person, 422.4ms\n",
      "Speed: 1.8ms preprocess, 422.4ms inference, 0.9ms postprocess per image at shape (1, 3, 480, 640)\n",
      "🚀 Results: SolutionResults(classwise_count={'person': {'IN': 0, 'OUT': 0}}, total_tracks=1)\n",
      "\n",
      "0: 480x640 1 person, 370.0ms\n",
      "Speed: 2.3ms preprocess, 370.0ms inference, 0.8ms postprocess per image at shape (1, 3, 480, 640)\n",
      "🚀 Results: SolutionResults(classwise_count={'person': {'IN': 0, 'OUT': 0}}, total_tracks=1)\n",
      "\n",
      "0: 480x640 1 person, 375.9ms\n",
      "Speed: 1.3ms preprocess, 375.9ms inference, 0.8ms postprocess per image at shape (1, 3, 480, 640)\n",
      "🚀 Results: SolutionResults(classwise_count={'person': {'IN': 0, 'OUT': 0}}, total_tracks=1)\n"
     ]
    },
    {
     "ename": "KeyboardInterrupt",
     "evalue": "",
     "output_type": "error",
     "traceback": [
      "\u001b[0;31m---------------------------------------------------------------------------\u001b[0m",
      "\u001b[0;31mKeyboardInterrupt\u001b[0m                         Traceback (most recent call last)",
      "Cell \u001b[0;32mIn[4], line 35\u001b[0m\n\u001b[1;32m     32\u001b[0m     \u001b[38;5;66;03m# print(results)  # access the output\u001b[39;00m\n\u001b[1;32m     34\u001b[0m     video_writer\u001b[38;5;241m.\u001b[39mwrite(results\u001b[38;5;241m.\u001b[39mplot_im)  \u001b[38;5;66;03m# write the processed frame.\u001b[39;00m\n\u001b[0;32m---> 35\u001b[0m     \u001b[43mtime\u001b[49m\u001b[38;5;241;43m.\u001b[39;49m\u001b[43msleep\u001b[49m\u001b[43m(\u001b[49m\u001b[38;5;241;43m1\u001b[39;49m\u001b[43m)\u001b[49m\n\u001b[1;32m     37\u001b[0m cap\u001b[38;5;241m.\u001b[39mrelease()\n\u001b[1;32m     38\u001b[0m video_writer\u001b[38;5;241m.\u001b[39mrelease()\n",
      "\u001b[0;31mKeyboardInterrupt\u001b[0m: "
     ]
    },
    {
     "ename": "",
     "evalue": "",
     "output_type": "error",
     "traceback": [
      "\u001b[1;31mThe Kernel crashed while executing code in the current cell or a previous cell. \n",
      "\u001b[1;31mPlease review the code in the cell(s) to identify a possible cause of the failure. \n",
      "\u001b[1;31mClick <a href='https://aka.ms/vscodeJupyterKernelCrash'>here</a> for more info. \n",
      "\u001b[1;31mView Jupyter <a href='command:jupyter.viewOutput'>log</a> for further details."
     ]
    }
   ],
   "source": [
    "# cap = cv2.VideoCapture(\"test1.mp4\")\n",
    "cap = cv2.VideoCapture(0)\n",
    "assert cap.isOpened(), \"Error reading video file\"\n",
    "\n",
    "# region_points = [(20, 400), (1080, 400)]                                      # line counting\n",
    "region_points = [(20, 400), (1080, 400), (1080, 360), (20, 360)]  # rectangle region\n",
    "# region_points = [(20, 400), (1080, 400), (1080, 360), (20, 360), (20, 400)]   # polygon region\n",
    "\n",
    "# Video writer\n",
    "w, h, fps = (int(cap.get(x)) for x in (cv2.CAP_PROP_FRAME_WIDTH, cv2.CAP_PROP_FRAME_HEIGHT, cv2.CAP_PROP_FPS))\n",
    "video_writer = cv2.VideoWriter(\"object_counting_output.avi\", cv2.VideoWriter_fourcc(*\"mp4v\"), fps, (w, h))\n",
    "\n",
    "# Initialize object counter object\n",
    "counter = solutions.ObjectCounter(\n",
    "    show=True,  # display the output\n",
    "    region=None, #region_points,  # pass region points\n",
    "    model=\"yolo11m.pt\",  # model=\"yolo11n-obb.pt\" for object counting with OBB model.\n",
    "    classes=[0],  # count specific classes i.e. person and car with COCO pretrained model.\n",
    "    # tracker=\"botsort.yaml\",  # choose trackers i.e \"bytetrack.yaml\"\n",
    ")\n",
    "\n",
    "# Process video\n",
    "while cap.isOpened():\n",
    "    success, im0 = cap.read()\n",
    "\n",
    "    if not success:\n",
    "        print(\"Video frame is empty or processing is complete.\")\n",
    "        break\n",
    "\n",
    "    results = counter(im0)\n",
    "\n",
    "    # print(results)  # access the output\n",
    "\n",
    "    video_writer.write(results.plot_im)  # write the processed frame.\n",
    "    time.sleep(1)\n",
    "\n",
    "cap.release()\n",
    "video_writer.release()\n",
    "cv2.destroyAllWindows()  # destroy all opened windows"
   ]
  }
 ],
 "metadata": {
  "kernelspec": {
   "display_name": "ultra_3.10",
   "language": "python",
   "name": "python3"
  },
  "language_info": {
   "codemirror_mode": {
    "name": "ipython",
    "version": 3
   },
   "file_extension": ".py",
   "mimetype": "text/x-python",
   "name": "python",
   "nbconvert_exporter": "python",
   "pygments_lexer": "ipython3",
   "version": "3.10.16"
  }
 },
 "nbformat": 4,
 "nbformat_minor": 5
}
